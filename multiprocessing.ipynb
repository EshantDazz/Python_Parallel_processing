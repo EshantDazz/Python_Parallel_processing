{
 "cells": [
  {
   "cell_type": "code",
   "execution_count": null,
   "metadata": {},
   "outputs": [],
   "source": []
  },
  {
   "cell_type": "markdown",
   "metadata": {},
   "source": [
    "## The simplest pattern in multiprocessing is creating a new process using the Process class."
   ]
  },
  {
   "cell_type": "code",
   "execution_count": null,
   "metadata": {},
   "outputs": [],
   "source": [
    "import multiprocessing\n",
    "import os\n",
    "\n",
    "\n",
    "def worker():\n",
    "    print(f\"Worker process started: {os.getpid()}\")\n",
    "\n",
    "\n",
    "if __name__ == \"__main__\":\n",
    "    p = multiprocessing.Process(target=worker)\n",
    "    p.start()  # Start the process\n",
    "    p.join()  # Wait for the process to finish"
   ]
  },
  {
   "cell_type": "code",
   "execution_count": null,
   "metadata": {},
   "outputs": [],
   "source": [
    "import multiprocessing\n",
    "import os\n",
    "import time\n",
    "\n",
    "\n",
    "def worker_a():\n",
    "    print(f\"Worker A started: {os.getpid()}\")\n",
    "    time.sleep(2)  # Simulate work\n",
    "    print(f\"Worker A finished: {os.getpid()}\")\n",
    "\n",
    "\n",
    "def worker_b():\n",
    "    print(f\"Worker B started: {os.getpid()}\")\n",
    "    time.sleep(3)  # Simulate work\n",
    "    print(f\"Worker B finished: {os.getpid()}\")\n",
    "\n",
    "\n",
    "def worker_c():\n",
    "    print(f\"Worker C started: {os.getpid()}\")\n",
    "    time.sleep(1)  # Simulate work\n",
    "    print(f\"Worker C finished: {os.getpid()}\")\n",
    "\n",
    "\n",
    "if __name__ == \"__main__\":\n",
    "    # Create process instances for each worker function\n",
    "    processes = [\n",
    "        multiprocessing.Process(target=worker_a),\n",
    "        multiprocessing.Process(target=worker_b),\n",
    "        multiprocessing.Process(target=worker_c),\n",
    "    ]\n",
    "\n",
    "    # Start all processes\n",
    "    for p in processes:\n",
    "        p.start()\n",
    "\n",
    "    # Wait for all processes to finish\n",
    "    for p in processes:\n",
    "        p.join()"
   ]
  },
  {
   "cell_type": "markdown",
   "metadata": {},
   "source": [
    "## 2. You can pass arguments to the target function when creating a new process."
   ]
  },
  {
   "cell_type": "code",
   "execution_count": null,
   "metadata": {},
   "outputs": [],
   "source": [
    "import multiprocessing\n",
    "\n",
    "\n",
    "def worker(num):\n",
    "    print(f\"Worker {num} started\")\n",
    "\n",
    "\n",
    "if __name__ == \"__main__\":\n",
    "    processes = []\n",
    "    for i in range(5):\n",
    "        p = multiprocessing.Process(target=worker, args=(i,))\n",
    "        processes.append(p)\n",
    "        p.start()\n",
    "\n",
    "    for p in processes:\n",
    "        p.join()  # Wait for all processes to finish"
   ]
  },
  {
   "cell_type": "code",
   "execution_count": null,
   "metadata": {},
   "outputs": [],
   "source": []
  },
  {
   "cell_type": "markdown",
   "metadata": {},
   "source": [
    "## 3. A Pool is used to manage a pool of worker processes that can perform tasks in parallel. This is especially useful for distributing a large number of tasks across multiple processes."
   ]
  },
  {
   "cell_type": "code",
   "execution_count": null,
   "metadata": {},
   "outputs": [],
   "source": [
    "import multiprocessing\n",
    "\n",
    "\n",
    "def square(x):\n",
    "    return x * x\n",
    "\n",
    "\n",
    "if __name__ == \"__main__\":\n",
    "    with multiprocessing.Pool(4) as pool:  # upto 4 task can run in paraleel\n",
    "        result = pool.map(square, range(10))  # Run the square function on each input\n",
    "    print(result)"
   ]
  },
  {
   "cell_type": "code",
   "execution_count": null,
   "metadata": {},
   "outputs": [],
   "source": []
  },
  {
   "cell_type": "code",
   "execution_count": null,
   "metadata": {},
   "outputs": [],
   "source": [
    "import multiprocessing\n",
    "import time\n",
    "\n",
    "\n",
    "def square(x):\n",
    "    time.sleep(0.5)\n",
    "    print(x * x)\n",
    "    return x * x\n",
    "\n",
    "\n",
    "if __name__ == \"__main__\":\n",
    "    with multiprocessing.Pool(4) as pool:\n",
    "        result = pool.map(square, range(10))  # Run the square function on each input\n",
    "    print(result)"
   ]
  },
  {
   "cell_type": "code",
   "execution_count": null,
   "metadata": {},
   "outputs": [],
   "source": []
  },
  {
   "cell_type": "markdown",
   "metadata": {},
   "source": [
    "## 4. Inter-process Communication with multiprocessing.Queue multiprocessing.Queue is used for passing messages between processes safely."
   ]
  },
  {
   "cell_type": "code",
   "execution_count": null,
   "metadata": {},
   "outputs": [],
   "source": [
    "import multiprocessing\n",
    "\n",
    "\n",
    "def producer(queue):\n",
    "    for i in range(5):\n",
    "        queue.put(i)  # Put items in the queue\n",
    "    queue.put(None)  # Sentinel value to signal completion\n",
    "\n",
    "\n",
    "def consumer(queue):\n",
    "    while True:\n",
    "        item = queue.get()\n",
    "        if item is None:\n",
    "            break\n",
    "        print(f\"Consumed {item}\")\n",
    "\n",
    "\n",
    "if __name__ == \"__main__\":\n",
    "    queue = multiprocessing.Queue()\n",
    "    p1 = multiprocessing.Process(target=producer, args=(queue,))\n",
    "    p2 = multiprocessing.Process(target=consumer, args=(queue,))\n",
    "\n",
    "    p1.start()\n",
    "    p2.start()\n",
    "\n",
    "    p1.join()\n",
    "    p2.join()"
   ]
  },
  {
   "cell_type": "code",
   "execution_count": null,
   "metadata": {},
   "outputs": [],
   "source": []
  },
  {
   "cell_type": "markdown",
   "metadata": {},
   "source": [
    "## 5. Inter-process Communication with multiprocessing.Pipe\n"
   ]
  },
  {
   "cell_type": "code",
   "execution_count": null,
   "metadata": {},
   "outputs": [],
   "source": [
    "import multiprocessing\n",
    "\n",
    "\n",
    "def worker(conn):\n",
    "    conn.send(\"Hello from worker!\")\n",
    "    conn.close()\n",
    "\n",
    "\n",
    "if __name__ == \"__main__\":\n",
    "    parent_conn, child_conn = multiprocessing.Pipe()\n",
    "    p = multiprocessing.Process(target=worker, args=(child_conn,))\n",
    "\n",
    "    p.start()\n",
    "    print(parent_conn.recv())  # Receive the message from the worker\n",
    "    p.join()"
   ]
  },
  {
   "cell_type": "code",
   "execution_count": null,
   "metadata": {},
   "outputs": [],
   "source": [
    "import multiprocessing\n",
    "\n",
    "\n",
    "def worker(conn):\n",
    "    message = \"Hello from worker!\"\n",
    "    conn.send(message)  # Send message to parent\n",
    "    conn.close()  # Close the connection\n",
    "\n",
    "\n",
    "if __name__ == \"__main__\":\n",
    "    parent_conn, child_conn = multiprocessing.Pipe()  # Create a pipe\n",
    "    p = multiprocessing.Process(target=worker, args=(child_conn,))  # Initialize Process\n",
    "\n",
    "    p.start()  # Start the worker process\n",
    "    received_msg = parent_conn.recv()  # Receive message from worker\n",
    "    print(\n",
    "        f\"Parent received: {received_msg}\"\n",
    "    )  # Output: Parent received: Hello from worker!\n",
    "    p.join()  # Wait for the worker to finish"
   ]
  },
  {
   "cell_type": "code",
   "execution_count": null,
   "metadata": {},
   "outputs": [],
   "source": [
    "import multiprocessing\n",
    "\n",
    "\n",
    "def worker(conn):\n",
    "    # Receive a message from the parent\n",
    "    parent_msg = conn.recv()\n",
    "    print(f\"Worker received: {parent_msg}\")\n",
    "\n",
    "    # Send a reply back to the parent\n",
    "    reply = \"Hello from worker!\"\n",
    "    conn.send(reply)\n",
    "    conn.close()\n",
    "\n",
    "\n",
    "if __name__ == \"__main__\":\n",
    "    parent_conn, child_conn = multiprocessing.Pipe()\n",
    "\n",
    "    p = multiprocessing.Process(target=worker, args=(child_conn,))\n",
    "    p.start()\n",
    "\n",
    "    # Parent sends a message to the worker\n",
    "    parent_conn.send(\"Hello from parent!\")\n",
    "\n",
    "    # Parent receives a reply from the worker\n",
    "    reply = parent_conn.recv()\n",
    "    print(f\"Parent received: {reply}\")\n",
    "\n",
    "    p.join()"
   ]
  },
  {
   "cell_type": "code",
   "execution_count": null,
   "metadata": {},
   "outputs": [],
   "source": []
  },
  {
   "cell_type": "markdown",
   "metadata": {},
   "source": [
    "## 6. multiprocessing.Lock ensures that only one process can access a critical section at a time, avoiding race conditions."
   ]
  },
  {
   "cell_type": "code",
   "execution_count": null,
   "metadata": {},
   "outputs": [],
   "source": [
    "import multiprocessing\n",
    "\n",
    "\n",
    "def worker(lock, shared_value):\n",
    "    with lock:\n",
    "        for _ in range(1000):\n",
    "            shared_value.value += 1\n",
    "\n",
    "\n",
    "if __name__ == \"__main__\":\n",
    "    lock = multiprocessing.Lock()\n",
    "    shared_value = multiprocessing.Value(\"i\", 0)\n",
    "\n",
    "    processes = [\n",
    "        multiprocessing.Process(target=worker, args=(lock, shared_value))\n",
    "        for _ in range(4)\n",
    "    ]\n",
    "\n",
    "    for p in processes:\n",
    "        p.start()\n",
    "\n",
    "    for p in processes:\n",
    "        p.join()\n",
    "\n",
    "    print(f\"Shared value: {shared_value.value}\")"
   ]
  },
  {
   "cell_type": "code",
   "execution_count": null,
   "metadata": {},
   "outputs": [],
   "source": []
  },
  {
   "cell_type": "markdown",
   "metadata": {},
   "source": [
    "## 7. Using multiprocessing.Semaphore for Controlling Access"
   ]
  },
  {
   "cell_type": "code",
   "execution_count": null,
   "metadata": {},
   "outputs": [],
   "source": [
    "import multiprocessing\n",
    "import time\n",
    "\n",
    "\n",
    "def worker(semaphore, name):\n",
    "    with semaphore:\n",
    "        print(f\"{name} is working...\")\n",
    "        time.sleep(1)\n",
    "        print(f\"{name} finished work.\")\n",
    "\n",
    "\n",
    "if __name__ == \"__main__\":\n",
    "    semaphore = multiprocessing.Semaphore(2)  # Only allow 2 workers at a time\n",
    "\n",
    "    processes = [\n",
    "        multiprocessing.Process(target=worker, args=(semaphore, f\"Worker {i}\"))\n",
    "        for i in range(5)\n",
    "    ]\n",
    "\n",
    "    for p in processes:\n",
    "        p.start()\n",
    "\n",
    "    for p in processes:\n",
    "        p.join()"
   ]
  },
  {
   "cell_type": "code",
   "execution_count": null,
   "metadata": {},
   "outputs": [],
   "source": []
  },
  {
   "cell_type": "markdown",
   "metadata": {},
   "source": [
    "## 8. Using multiprocessing.Event for Signaling Between Processes"
   ]
  },
  {
   "cell_type": "code",
   "execution_count": null,
   "metadata": {},
   "outputs": [],
   "source": [
    "import multiprocessing\n",
    "import time\n",
    "\n",
    "\n",
    "def wait_for_event(event):\n",
    "    print(\"Waiting for event...\")\n",
    "    event.wait()  # Wait until the event is set\n",
    "    print(\"Event received, continuing work...\")\n",
    "\n",
    "\n",
    "def trigger_event(event):\n",
    "    time.sleep(2)\n",
    "    print(\"Setting event\")\n",
    "    event.set()\n",
    "\n",
    "\n",
    "if __name__ == \"__main__\":\n",
    "    event = multiprocessing.Event()\n",
    "\n",
    "    p1 = multiprocessing.Process(target=wait_for_event, args=(event,))\n",
    "    p2 = multiprocessing.Process(target=trigger_event, args=(event,))\n",
    "\n",
    "    p1.start()\n",
    "    p2.start()\n",
    "\n",
    "    p1.join()\n",
    "    p2.join()"
   ]
  },
  {
   "cell_type": "code",
   "execution_count": null,
   "metadata": {},
   "outputs": [],
   "source": []
  },
  {
   "cell_type": "markdown",
   "metadata": {},
   "source": [
    "## 9. multiprocessing.Manager allows sharing of complex data types (like lists, dictionaries) between processes."
   ]
  },
  {
   "cell_type": "code",
   "execution_count": null,
   "metadata": {},
   "outputs": [],
   "source": [
    "import multiprocessing\n",
    "\n",
    "\n",
    "def worker(shared_list, shared_dict):\n",
    "    shared_list.append(1)\n",
    "    shared_dict[\"count\"] = shared_dict.get(\"count\", 0) + 1\n",
    "\n",
    "\n",
    "if __name__ == \"__main__\":\n",
    "    manager = multiprocessing.Manager()\n",
    "    shared_list = manager.list()  # Shared list\n",
    "    shared_dict = manager.dict()  # Shared dictionary\n",
    "\n",
    "    processes = [\n",
    "        multiprocessing.Process(target=worker, args=(shared_list, shared_dict))\n",
    "        for _ in range(5)\n",
    "    ]\n",
    "\n",
    "    for p in processes:\n",
    "        p.start()\n",
    "\n",
    "    for p in processes:\n",
    "        p.join()\n",
    "\n",
    "    print(f\"Shared list: {list(shared_list)}\")\n",
    "    print(f\"Shared dict: {dict(shared_dict)}\")"
   ]
  }
 ],
 "metadata": {
  "kernelspec": {
   "display_name": "myenv",
   "language": "python",
   "name": "python3"
  },
  "language_info": {
   "codemirror_mode": {
    "name": "ipython",
    "version": 3
   },
   "file_extension": ".py",
   "mimetype": "text/x-python",
   "name": "python",
   "nbconvert_exporter": "python",
   "pygments_lexer": "ipython3",
   "version": "3.11.4"
  }
 },
 "nbformat": 4,
 "nbformat_minor": 2
}
