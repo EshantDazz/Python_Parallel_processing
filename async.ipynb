{
 "cells": [
  {
   "cell_type": "markdown",
   "metadata": {},
   "source": [
    "## 1. The foundation of asynchronous programming in Python is coroutines, which are defined using async def and are \"awaited\" using the await keyword."
   ]
  },
  {
   "cell_type": "code",
   "execution_count": 3,
   "metadata": {},
   "outputs": [
    {
     "name": "stdout",
     "output_type": "stream",
     "text": [
      "Coroutine started\n",
      "Coroutine finished\n"
     ]
    }
   ],
   "source": [
    "import asyncio\n",
    "\n",
    "\n",
    "async def simple_coroutine():\n",
    "    print(\"Coroutine started\")\n",
    "    await asyncio.sleep(1)  # Simulate an I/O-bound task\n",
    "    print(\"Coroutine finished\")\n",
    "\n",
    "\n",
    "# Running the coroutine\n",
    "# asyncio.run(simple_coroutine())\n",
    "await simple_coroutine()"
   ]
  },
  {
   "cell_type": "code",
   "execution_count": null,
   "metadata": {},
   "outputs": [],
   "source": []
  },
  {
   "cell_type": "markdown",
   "metadata": {},
   "source": [
    "## 2. Running Multiple Coroutines Concurrently"
   ]
  },
  {
   "cell_type": "code",
   "execution_count": 5,
   "metadata": {},
   "outputs": [
    {
     "name": "stdout",
     "output_type": "stream",
     "text": [
      "Task A started\n",
      "Task B started\n",
      "Task B finished\n",
      "Task A finished\n"
     ]
    }
   ],
   "source": [
    "import asyncio\n",
    "\n",
    "\n",
    "async def task(name, delay):\n",
    "    print(f\"Task {name} started\")\n",
    "    await asyncio.sleep(delay)  # Simulate asynchronous I/O\n",
    "    print(f\"Task {name} finished\")\n",
    "\n",
    "\n",
    "async def main():\n",
    "    await asyncio.gather(task(\"A\", 2), task(\"B\", 1))\n",
    "\n",
    "\n",
    "# Run the event loop\n",
    "# asyncio.run(main())\n",
    "await main()"
   ]
  },
  {
   "cell_type": "code",
   "execution_count": 8,
   "metadata": {},
   "outputs": [
    {
     "name": "stdout",
     "output_type": "stream",
     "text": [
      "Task A started, will take 2 seconds\n",
      "Task B started, will take 1 seconds\n",
      "Task C started, will take 3 seconds\n",
      "Task B finished\n",
      "Task A finished\n",
      "Task C finished\n"
     ]
    }
   ],
   "source": [
    "import asyncio\n",
    "\n",
    "\n",
    "# Define a task that takes input parameters\n",
    "async def my_task(name, delay):\n",
    "    print(f\"Task {name} started, will take {delay} seconds\")\n",
    "    await asyncio.sleep(delay)  # Simulate a delay\n",
    "    print(f\"Task {name} finished\")\n",
    "\n",
    "\n",
    "# Main coroutine that gathers tasks with different inputs\n",
    "async def main():\n",
    "    # Use asyncio.gather to run tasks with different parameters\n",
    "    await asyncio.gather(\n",
    "        my_task(\"A\", 2),  # Task A with 2 seconds delay\n",
    "        my_task(\"B\", 1),  # Task B with 1 second delay\n",
    "        my_task(\"C\", 3),  # Task C with 3 seconds delay\n",
    "    )\n",
    "\n",
    "\n",
    "# Run the event loop\n",
    "await main()"
   ]
  },
  {
   "cell_type": "code",
   "execution_count": 9,
   "metadata": {},
   "outputs": [
    {
     "name": "stdout",
     "output_type": "stream",
     "text": [
      "Task Task 1 started, will take 1 seconds\n",
      "Task Task 2 started, will take 2 seconds\n",
      "Task Task 3 started, will take 3 seconds\n",
      "Task Task 4 started, will take 4 seconds\n",
      "Task Task 5 started, will take 5 seconds\n",
      "Task Task 1 finished\n",
      "Task Task 2 finished\n",
      "Task Task 3 finished\n",
      "Task Task 4 finished\n",
      "Task Task 5 finished\n"
     ]
    }
   ],
   "source": [
    "import asyncio\n",
    "\n",
    "\n",
    "# Define a task that takes input parameters\n",
    "async def my_task(name, delay):\n",
    "    print(f\"Task {name} started, will take {delay} seconds\")\n",
    "    await asyncio.sleep(delay)  # Simulate a delay\n",
    "    print(f\"Task {name} finished\")\n",
    "\n",
    "\n",
    "# Main coroutine that gathers a list of tasks\n",
    "async def main():\n",
    "    tasks = []\n",
    "\n",
    "    # Dynamically create tasks with different parameters\n",
    "    for i in range(5):\n",
    "        task_name = f\"Task {i+1}\"\n",
    "        delay = i + 1  # Different delay for each task\n",
    "        tasks.append(my_task(task_name, delay))\n",
    "\n",
    "    # Use *tasks to unpack the list into asyncio.gather\n",
    "    await asyncio.gather(*tasks)\n",
    "\n",
    "\n",
    "# Run the event loop\n",
    "await main()"
   ]
  },
  {
   "cell_type": "code",
   "execution_count": 10,
   "metadata": {},
   "outputs": [
    {
     "name": "stdout",
     "output_type": "stream",
     "text": [
      "Analyzing number 1, this will take 1 seconds\n",
      "Analyzing number 2, this will take 2 seconds\n",
      "Analyzing number 3, this will take 3 seconds\n",
      "Analyzing number 4, this will take 4 seconds\n",
      "Analyzing number 5, this will take 5 seconds\n",
      "Finished analyzing number 1: result is 1\n",
      "Finished analyzing number 2: result is 4\n",
      "Finished analyzing number 3: result is 9\n",
      "Finished analyzing number 4: result is 16\n",
      "Finished analyzing number 5: result is 25\n",
      "All tasks finished.\n",
      "Results: [1, 4, 9, 16, 25]\n"
     ]
    }
   ],
   "source": [
    "import asyncio\n",
    "\n",
    "\n",
    "# Define an async function that performs some analysis on an input (e.g., squaring a number)\n",
    "async def analyze_number(number, delay):\n",
    "    print(f\"Analyzing number {number}, this will take {delay} seconds\")\n",
    "    await asyncio.sleep(delay)  # Simulate async I/O delay\n",
    "    result = number * number  # Simple analysis: squaring the number\n",
    "    print(f\"Finished analyzing number {number}: result is {result}\")\n",
    "    return result  # Return the result of the analysis\n",
    "\n",
    "\n",
    "# Main coroutine to gather the results of analyzing a list of numbers\n",
    "async def main():\n",
    "    numbers = [1, 2, 3, 4, 5]  # List of numbers to analyze\n",
    "    tasks = []\n",
    "\n",
    "    # Dynamically create tasks for each number in the list\n",
    "    for i, number in enumerate(numbers):\n",
    "        delay = i + 1  # Different delay for each task\n",
    "        tasks.append(analyze_number(number, delay))\n",
    "\n",
    "    # Run all tasks asynchronously and collect the results\n",
    "    results = await asyncio.gather(*tasks)\n",
    "\n",
    "    print(\"All tasks finished.\")\n",
    "    print(\"Results:\", results)\n",
    "\n",
    "\n",
    "# Run the event loop and main function\n",
    "await main()"
   ]
  },
  {
   "cell_type": "code",
   "execution_count": null,
   "metadata": {},
   "outputs": [],
   "source": []
  },
  {
   "cell_type": "markdown",
   "metadata": {},
   "source": [
    "## 3. asyncio.create_task() is used to schedule coroutines as tasks, which run concurrently but allow you to manage them explicitly."
   ]
  },
  {
   "cell_type": "code",
   "execution_count": 11,
   "metadata": {},
   "outputs": [
    {
     "name": "stdout",
     "output_type": "stream",
     "text": [
      "Tasks are running concurrently\n",
      "Task started\n",
      "Task started\n",
      "Task finished\n",
      "Task finished\n"
     ]
    }
   ],
   "source": [
    "import asyncio\n",
    "\n",
    "\n",
    "async def my_task():\n",
    "    print(\"Task started\")\n",
    "    await asyncio.sleep(2)\n",
    "    print(\"Task finished\")\n",
    "\n",
    "\n",
    "async def main():\n",
    "    task1 = asyncio.create_task(my_task())\n",
    "    task2 = asyncio.create_task(my_task())\n",
    "\n",
    "    print(\"Tasks are running concurrently\")\n",
    "    await task1\n",
    "    await task2\n",
    "\n",
    "\n",
    "await main()"
   ]
  },
  {
   "cell_type": "code",
   "execution_count": 12,
   "metadata": {},
   "outputs": [
    {
     "name": "stdout",
     "output_type": "stream",
     "text": [
      "Tasks are running concurrently\n",
      "Task 1 started\n",
      "Task 2 started\n",
      "Task 1 finished\n",
      "Task 2 finished\n",
      "Results: Result from Task 1 Result from Task 2\n"
     ]
    }
   ],
   "source": [
    "import asyncio\n",
    "\n",
    "\n",
    "async def my_task(task_name):\n",
    "    print(f\"{task_name} started\")\n",
    "    await asyncio.sleep(2)\n",
    "    print(f\"{task_name} finished\")\n",
    "    return f\"Result from {task_name}\"\n",
    "\n",
    "\n",
    "async def main():\n",
    "    task1 = asyncio.create_task(my_task(\"Task 1\"))\n",
    "    task2 = asyncio.create_task(my_task(\"Task 2\"))\n",
    "\n",
    "    print(\"Tasks are running concurrently\")\n",
    "\n",
    "    # Await tasks and collect their results\n",
    "    result1 = await task1\n",
    "    result2 = await task2\n",
    "\n",
    "    print(\"Results:\", result1, result2)\n",
    "\n",
    "\n",
    "await main()"
   ]
  },
  {
   "cell_type": "code",
   "execution_count": null,
   "metadata": {},
   "outputs": [],
   "source": []
  },
  {
   "cell_type": "markdown",
   "metadata": {},
   "source": [
    "## 4. In certain situations, such as reading data from a stream asynchronously, you can use async for to iterate over asynchronous data sources."
   ]
  },
  {
   "cell_type": "code",
   "execution_count": 15,
   "metadata": {},
   "outputs": [
    {
     "name": "stdout",
     "output_type": "stream",
     "text": [
      "0\n",
      "1\n",
      "2\n",
      "3\n",
      "4\n"
     ]
    }
   ],
   "source": [
    "import asyncio\n",
    "\n",
    "\n",
    "async def async_generator():\n",
    "    for i in range(5):\n",
    "        await asyncio.sleep(1)\n",
    "        yield i\n",
    "\n",
    "\n",
    "async def main():\n",
    "    async for value in async_generator():\n",
    "        print(value)\n",
    "\n",
    "\n",
    "await main()"
   ]
  },
  {
   "cell_type": "code",
   "execution_count": 17,
   "metadata": {},
   "outputs": [
    {
     "name": "stdout",
     "output_type": "stream",
     "text": [
      "Counter: 0\n",
      "Counter: 1\n",
      "Counter: 2\n"
     ]
    }
   ],
   "source": [
    "async def async_counter(limit):\n",
    "    count = 0\n",
    "    while count < limit:\n",
    "        yield count\n",
    "        count += 1\n",
    "\n",
    "\n",
    "async def main_with_counter():\n",
    "    async for value in async_counter(3):\n",
    "        print(f\"Counter: {value}\")\n",
    "\n",
    "\n",
    "await main_with_counter()"
   ]
  },
  {
   "cell_type": "code",
   "execution_count": 20,
   "metadata": {},
   "outputs": [
    {
     "name": "stdout",
     "output_type": "stream",
     "text": [
      "[2, 4, 6, 8, 10]\n"
     ]
    }
   ],
   "source": [
    "import asyncio\n",
    "\n",
    "\n",
    "async def async_process_list(elements):\n",
    "    for element in elements:\n",
    "        # Simulate an asynchronous operation (e.g., fetching data or processing)\n",
    "        yield element * 2  # For example, doubling the element\n",
    "\n",
    "\n",
    "async def main_process_list():\n",
    "    numbers = [1, 2, 3, 4, 5]\n",
    "    a = []\n",
    "    async for processed_value in async_process_list(numbers):\n",
    "        a.append(processed_value)\n",
    "    print(a)\n",
    "\n",
    "\n",
    "# Run the main function\n",
    "await main_process_list()"
   ]
  },
  {
   "cell_type": "code",
   "execution_count": null,
   "metadata": {},
   "outputs": [],
   "source": []
  },
  {
   "cell_type": "markdown",
   "metadata": {},
   "source": [
    "## 5. Coroutines can call other coroutines and await their results, making it possible to build complex async workflows."
   ]
  },
  {
   "cell_type": "code",
   "execution_count": 21,
   "metadata": {},
   "outputs": [
    {
     "name": "stdout",
     "output_type": "stream",
     "text": [
      "Processing data...\n",
      "Fetching data...\n",
      "Processed data: {'data': 'sample data'}\n"
     ]
    }
   ],
   "source": [
    "import asyncio\n",
    "\n",
    "\n",
    "async def fetch_data():\n",
    "    print(\"Fetching data...\")\n",
    "    await asyncio.sleep(1)\n",
    "    return {\"data\": \"sample data\"}\n",
    "\n",
    "\n",
    "async def process_data():\n",
    "    print(\"Processing data...\")\n",
    "    data = await fetch_data()\n",
    "    print(f\"Processed data: {data}\")\n",
    "\n",
    "\n",
    "async def main():\n",
    "    await process_data()\n",
    "\n",
    "\n",
    "await main()"
   ]
  },
  {
   "cell_type": "code",
   "execution_count": null,
   "metadata": {},
   "outputs": [],
   "source": []
  },
  {
   "cell_type": "markdown",
   "metadata": {},
   "source": [
    "## 6. Sometimes you want to limit the amount of time a coroutine can take. asyncio.wait_for() allows you to specify a timeout for an awaited task."
   ]
  },
  {
   "cell_type": "code",
   "execution_count": 22,
   "metadata": {},
   "outputs": [
    {
     "name": "stdout",
     "output_type": "stream",
     "text": [
      "Task started\n",
      "Task timed out!\n"
     ]
    }
   ],
   "source": [
    "import asyncio\n",
    "\n",
    "\n",
    "async def long_task():\n",
    "    print(\"Task started\")\n",
    "    await asyncio.sleep(5)\n",
    "    print(\"Task finished\")\n",
    "\n",
    "\n",
    "async def main():\n",
    "    try:\n",
    "        await asyncio.wait_for(long_task(), timeout=2)\n",
    "    except asyncio.TimeoutError:\n",
    "        print(\"Task timed out!\")\n",
    "\n",
    "\n",
    "await main()"
   ]
  },
  {
   "cell_type": "code",
   "execution_count": null,
   "metadata": {},
   "outputs": [],
   "source": []
  },
  {
   "cell_type": "markdown",
   "metadata": {},
   "source": [
    "## 7. To ensure that only one coroutine accesses a critical section of code at a time, you can use asyncio.Lock (similar to a thread lock but for coroutines)."
   ]
  },
  {
   "cell_type": "code",
   "execution_count": 23,
   "metadata": {},
   "outputs": [
    {
     "name": "stdout",
     "output_type": "stream",
     "text": [
      "Task A waiting for lock\n",
      "Task A acquired the lock\n",
      "Task B waiting for lock\n",
      "Task A released the lock\n",
      "Task B acquired the lock\n",
      "Task B released the lock\n"
     ]
    }
   ],
   "source": [
    "import asyncio\n",
    "\n",
    "lock = asyncio.Lock()\n",
    "\n",
    "\n",
    "async def safe_task(name):\n",
    "    print(f\"Task {name} waiting for lock\")\n",
    "    async with lock:  # Acquire the lock\n",
    "        print(f\"Task {name} acquired the lock\")\n",
    "        await asyncio.sleep(1)\n",
    "    print(f\"Task {name} released the lock\")\n",
    "\n",
    "\n",
    "async def main():\n",
    "    await asyncio.gather(safe_task(\"A\"), safe_task(\"B\"))\n",
    "\n",
    "\n",
    "await main()"
   ]
  },
  {
   "cell_type": "code",
   "execution_count": null,
   "metadata": {},
   "outputs": [],
   "source": []
  },
  {
   "cell_type": "markdown",
   "metadata": {},
   "source": [
    "## 8. asyncio.Queue is a thread-safe queue that supports asynchronous producers and consumers. It is useful for distributing tasks between multiple workers."
   ]
  },
  {
   "cell_type": "code",
   "execution_count": 29,
   "metadata": {},
   "outputs": [
    {
     "name": "stdout",
     "output_type": "stream",
     "text": [
      "Producing 0\n",
      "Producing 1\n",
      "Producing 2\n",
      "Producing 3\n",
      "Producing 4\n",
      "Consuming 0\n",
      "Consuming 1\n",
      "Consuming 2\n",
      "Consuming 3\n",
      "Consuming 4\n"
     ]
    }
   ],
   "source": [
    "import asyncio\n",
    "\n",
    "\n",
    "async def producer(queue):\n",
    "    for i in range(5):\n",
    "        print(f\"Producing {i}\")\n",
    "        await queue.put(i)\n",
    "\n",
    "\n",
    "async def consumer(queue):\n",
    "    while True:\n",
    "        item = await queue.get()\n",
    "        if item is None:  # Sentinel value to exit\n",
    "            break\n",
    "        print(f\"Consuming {item}\")\n",
    "        queue.task_done()\n",
    "\n",
    "\n",
    "async def main():\n",
    "    queue = asyncio.Queue()\n",
    "\n",
    "    # Run producer and consumer concurrently\n",
    "    producer_task = asyncio.create_task(producer(queue))\n",
    "    consumer_task = asyncio.create_task(consumer(queue))\n",
    "\n",
    "    await producer_task  # Wait for producer to finish\n",
    "    await queue.put(None)  # Stop consumer\n",
    "    await consumer_task  # Wait for consumer to finish\n",
    "\n",
    "\n",
    "await main()"
   ]
  },
  {
   "cell_type": "code",
   "execution_count": null,
   "metadata": {},
   "outputs": [],
   "source": []
  },
  {
   "cell_type": "markdown",
   "metadata": {},
   "source": [
    "## 9. An asyncio.Semaphore is used to limit the number of concurrent tasks. For instance, if you're making API requests and want to avoid making too many requests at once."
   ]
  },
  {
   "cell_type": "code",
   "execution_count": 31,
   "metadata": {},
   "outputs": [
    {
     "name": "stdout",
     "output_type": "stream",
     "text": [
      "Task Task 0 started\n",
      "Task Task 1 started\n",
      "Task Task 2 started\n",
      "Task Task 0 finished\n",
      "Task Task 1 finished\n",
      "Task Task 2 finished\n",
      "Task Task 3 started\n",
      "Task Task 4 started\n",
      "Task Task 5 started\n",
      "Task Task 3 finished\n",
      "Task Task 4 finished\n",
      "Task Task 5 finished\n",
      "Task Task 6 started\n",
      "Task Task 7 started\n",
      "Task Task 8 started\n",
      "Task Task 6 finished\n",
      "Task Task 7 finished\n",
      "Task Task 8 finished\n",
      "Task Task 9 started\n",
      "Task Task 9 finished\n"
     ]
    }
   ],
   "source": [
    "import asyncio\n",
    "\n",
    "semaphore = asyncio.Semaphore(3)\n",
    "\n",
    "\n",
    "async def limited_task(name):\n",
    "    async with semaphore:\n",
    "        print(f\"Task {name} started\")\n",
    "        await asyncio.sleep(1)\n",
    "        print(f\"Task {name} finished\")\n",
    "\n",
    "\n",
    "async def main():\n",
    "    await asyncio.gather(*(limited_task(f\"Task {i}\") for i in range(10)))\n",
    "\n",
    "\n",
    "await main()"
   ]
  },
  {
   "cell_type": "code",
   "execution_count": 34,
   "metadata": {},
   "outputs": [
    {
     "name": "stdout",
     "output_type": "stream",
     "text": [
      "Downloading File-0 started\n",
      "Downloading File-0 finished\n",
      "Downloading File-1 started\n",
      "Downloading File-1 finished\n",
      "Downloading File-2 started\n",
      "Downloading File-2 finished\n",
      "Downloading File-3 started\n",
      "Downloading File-3 finished\n",
      "Downloading File-4 started\n",
      "Downloading File-4 finished\n"
     ]
    }
   ],
   "source": [
    "import asyncio\n",
    "\n",
    "semaphore = asyncio.Semaphore(4)  # Limit to 2 concurrent downloads\n",
    "\n",
    "\n",
    "async def download_file(file_name):\n",
    "    async with semaphore:\n",
    "        print(f\"Downloading {file_name} started\")\n",
    "        print(f\"Downloading {file_name} finished\")\n",
    "\n",
    "\n",
    "async def main():\n",
    "    file_names = [f\"File-{i}\" for i in range(5)]\n",
    "    await asyncio.gather(*(download_file(file_name) for file_name in file_names))\n",
    "\n",
    "\n",
    "# Run the main function\n",
    "await main()"
   ]
  },
  {
   "cell_type": "code",
   "execution_count": null,
   "metadata": {},
   "outputs": [],
   "source": []
  },
  {
   "cell_type": "markdown",
   "metadata": {},
   "source": [
    "## 10. asyncio.Event can be used to signal between coroutines, ensuring that one coroutine waits for an event to be set by another."
   ]
  },
  {
   "cell_type": "code",
   "execution_count": 35,
   "metadata": {},
   "outputs": [
    {
     "name": "stdout",
     "output_type": "stream",
     "text": [
      "Waiting for event...\n",
      "Setting event\n",
      "Event received, proceeding\n"
     ]
    }
   ],
   "source": [
    "import asyncio\n",
    "\n",
    "event = asyncio.Event()\n",
    "\n",
    "\n",
    "async def waiter():\n",
    "    print(\"Waiting for event...\")\n",
    "    await event.wait()  # Wait for the event to be set\n",
    "    print(\"Event received, proceeding\")\n",
    "\n",
    "\n",
    "async def trigger():\n",
    "    await asyncio.sleep(2)\n",
    "    print(\"Setting event\")\n",
    "    event.set()  # Set the event\n",
    "\n",
    "\n",
    "async def main():\n",
    "    await asyncio.gather(waiter(), trigger())\n",
    "\n",
    "\n",
    "await main()"
   ]
  },
  {
   "cell_type": "code",
   "execution_count": null,
   "metadata": {},
   "outputs": [],
   "source": []
  },
  {
   "cell_type": "markdown",
   "metadata": {},
   "source": [
    "## 11. You can run external commands or processes asynchronously using asyncio.create_subprocess_exec() or asyncio.create_subprocess_shell()."
   ]
  },
  {
   "cell_type": "code",
   "execution_count": 36,
   "metadata": {},
   "outputs": [
    {
     "name": "stdout",
     "output_type": "stream",
     "text": [
      "[stdout]\n",
      "total 56\n",
      "-rw-r--r--@ 1 eshantdas  staff    201 Oct 11 12:16 2.py\n",
      "-rw-r--r--@ 1 eshantdas  staff  22303 Oct 11 12:52 async.ipynb\n",
      "drwxr-xr-x@ 7 eshantdas  staff    224 Oct 11 12:11 \u001b[34mmyenv\u001b[m\u001b[m\n",
      "\n",
      "[stderr]\n",
      "\n"
     ]
    }
   ],
   "source": [
    "import asyncio\n",
    "\n",
    "\n",
    "async def run_command():\n",
    "    process = await asyncio.create_subprocess_exec(\n",
    "        \"ls\", \"-l\", stdout=asyncio.subprocess.PIPE, stderr=asyncio.subprocess.PIPE\n",
    "    )\n",
    "\n",
    "    stdout, stderr = await process.communicate()\n",
    "    print(f\"[stdout]\\n{stdout.decode()}\")\n",
    "    print(f\"[stderr]\\n{stderr.decode()}\")\n",
    "\n",
    "\n",
    "await run_command()"
   ]
  },
  {
   "cell_type": "code",
   "execution_count": null,
   "metadata": {},
   "outputs": [],
   "source": []
  },
  {
   "cell_type": "markdown",
   "metadata": {},
   "source": [
    "## 12. The standard file operations are blocking, but you can use third-party libraries like aiofiles for non-blocking file I/O.\n"
   ]
  },
  {
   "cell_type": "code",
   "execution_count": 39,
   "metadata": {},
   "outputs": [
    {
     "name": "stdout",
     "output_type": "stream",
     "text": [
      "Hello, async file!\n",
      "\n"
     ]
    }
   ],
   "source": [
    "import aiofiles\n",
    "import asyncio\n",
    "\n",
    "\n",
    "async def async_file_io():\n",
    "    async with aiofiles.open(\"example.txt\", mode=\"w\") as file:\n",
    "        await file.write(\"Hello, async file!\\n\")\n",
    "\n",
    "    async with aiofiles.open(\"example.txt\", mode=\"r\") as file:\n",
    "        contents = await file.read()\n",
    "        print(contents)\n",
    "\n",
    "\n",
    "await async_file_io()"
   ]
  },
  {
   "cell_type": "code",
   "execution_count": null,
   "metadata": {},
   "outputs": [],
   "source": []
  },
  {
   "cell_type": "code",
   "execution_count": null,
   "metadata": {},
   "outputs": [],
   "source": []
  }
 ],
 "metadata": {
  "kernelspec": {
   "display_name": "myenv",
   "language": "python",
   "name": "python3"
  },
  "language_info": {
   "codemirror_mode": {
    "name": "ipython",
    "version": 3
   },
   "file_extension": ".py",
   "mimetype": "text/x-python",
   "name": "python",
   "nbconvert_exporter": "python",
   "pygments_lexer": "ipython3",
   "version": "3.11.4"
  }
 },
 "nbformat": 4,
 "nbformat_minor": 2
}
